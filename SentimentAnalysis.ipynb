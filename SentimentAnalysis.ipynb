{
  "nbformat": 4,
  "nbformat_minor": 0,
  "metadata": {
    "colab": {
      "name": "SentimentAnalysis.ipynb",
      "provenance": [],
      "authorship_tag": "ABX9TyNzBC89BMAAP+EtOrX0uFPF",
      "include_colab_link": true
    },
    "kernelspec": {
      "name": "python3",
      "display_name": "Python 3"
    }
  },
  "cells": [
    {
      "cell_type": "markdown",
      "metadata": {
        "id": "view-in-github",
        "colab_type": "text"
      },
      "source": [
        "<a href=\"https://colab.research.google.com/github/pavann-chowdary/gitlearning/blob/main/SentimentAnalysis.ipynb\" target=\"_parent\"><img src=\"https://colab.research.google.com/assets/colab-badge.svg\" alt=\"Open In Colab\"/></a>"
      ]
    },
    {
      "cell_type": "code",
      "metadata": {
        "id": "HCJIKYBaUqU_"
      },
      "source": [
        "#IMPORT LIB'S\r\n",
        "import pandas as pd\r\n",
        "import numpy as np\r\n",
        "import re\r\n",
        "import matplotlib.pyplot as plt\r\n",
        "import tweepy\r\n",
        "from wordcloud import WordCloud\r\n",
        "from textblob import TextBlob\r\n",
        "plt.style.use('fivethirtyeight')\r\n"
      ],
      "execution_count": 1,
      "outputs": []
    },
    {
      "cell_type": "code",
      "metadata": {
        "id": "BmSrzbF0g12t"
      },
      "source": [
        "class color:\r\n",
        "   PURPLE = '\\033[95m'\r\n",
        "   CYAN = '\\033[96m'\r\n",
        "   DARKCYAN = '\\033[36m'\r\n",
        "   BLUE = '\\033[94m'\r\n",
        "   GREEN = '\\033[92m'\r\n",
        "   YELLOW = '\\033[93m'\r\n",
        "   RED = '\\033[91m'\r\n",
        "   BOLD = '\\033[1m'\r\n",
        "   UNDERLINE = '\\033[4m'\r\n",
        "   END = '\\033[0m'"
      ],
      "execution_count": 48,
      "outputs": []
    },
    {
      "cell_type": "code",
      "metadata": {
        "colab": {
          "resources": {
            "http://localhost:8080/nbextensions/google.colab/files.js": {
              "data": "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",
              "ok": true,
              "headers": [
                [
                  "content-type",
                  "application/javascript"
                ]
              ],
              "status": 200,
              "status_text": ""
            }
          },
          "base_uri": "https://localhost:8080/",
          "height": 72
        },
        "id": "2fKEDC8bYgLz",
        "outputId": "3b83fc5f-e082-4221-8778-1d67a1ac05ae"
      },
      "source": [
        "#UPLOAD FILE\r\n",
        "from google.colab import files\r\n",
        "Apikeys=files.upload()"
      ],
      "execution_count": 20,
      "outputs": [
        {
          "output_type": "display_data",
          "data": {
            "text/html": [
              "\n",
              "     <input type=\"file\" id=\"files-2866c2cf-0534-4f93-b5a1-fbff24bfe90c\" name=\"files[]\" multiple disabled\n",
              "        style=\"border:none\" />\n",
              "     <output id=\"result-2866c2cf-0534-4f93-b5a1-fbff24bfe90c\">\n",
              "      Upload widget is only available when the cell has been executed in the\n",
              "      current browser session. Please rerun this cell to enable.\n",
              "      </output>\n",
              "      <script src=\"/nbextensions/google.colab/files.js\"></script> "
            ],
            "text/plain": [
              "<IPython.core.display.HTML object>"
            ]
          },
          "metadata": {
            "tags": []
          }
        },
        {
          "output_type": "stream",
          "text": [
            "Saving TwitterApikeys.csv to TwitterApikeys.csv\n"
          ],
          "name": "stdout"
        }
      ]
    },
    {
      "cell_type": "code",
      "metadata": {
        "id": "1rrpFEM3Yrvk"
      },
      "source": [
        "#GET KEYS FROM FILE\r\n",
        "ApiKeys=pd.read_csv('TwitterApikeys.csv')\r\n",
        "ConsumerKey=ApiKeys['ApiKey'][0]\r\n",
        "ConsumerSecretKey=ApiKeys['ApiSecretKey'][0]\r\n",
        "AccessToken=ApiKeys['AccessToken'][0]\r\n",
        "AccessSecretToken=ApiKeys['AccessSecretToken'][0]"
      ],
      "execution_count": 25,
      "outputs": []
    },
    {
      "cell_type": "code",
      "metadata": {
        "id": "mp9lefQ1Zz6H"
      },
      "source": [
        "#CREATE AUTHENTICATION OBJECT\r\n",
        "auth=tweepy.OAuthHandler(ConsumerKey,ConsumerSecretKey)\r\n",
        "#SET ACCESSTOKEN AND ACCESSSECRETTOKEN\r\n",
        "auth.set_access_token(AccessToken,AccessSecretToken)\r\n",
        "#CREATE API OBJECT WHILE PASSING AUTHENTICATION INFORMATION\r\n",
        "api=tweepy.API(auth,wait_on_rate_limit=True)"
      ],
      "execution_count": 27,
      "outputs": []
    },
    {
      "cell_type": "code",
      "metadata": {
        "colab": {
          "base_uri": "https://localhost:8080/"
        },
        "id": "9unjDzVccJmg",
        "outputId": "9380b74d-e892-4593-b05a-c1e4d01d6066"
      },
      "source": [
        "#EXTRACT 100 TWEETS FROM TWITTER USER\r\n",
        "tweets=api.user_timeline(screen_name=\"KamalaHarris\",count=100,lang='en',tweet_mode='extended')\r\n",
        "#printing 3 tweets\r\n",
        "c=0\r\n",
        "print(color.BOLD + color.DARKCYAN+ 'Recent 3 Tweets Of @KamalaHarris'+ color.END)\r\n",
        "for tweet in tweets[0:3]:\r\n",
        "    c+=1\r\n",
        "    print(c,')',tweet.full_text,end='\\n')"
      ],
      "execution_count": 99,
      "outputs": [
        {
          "output_type": "stream",
          "text": [
            "\u001b[1m\u001b[36mRecent 3 Tweets Of @KamalaHarris\u001b[0m\n",
            "1 ) From the pandemic to our climate crisis, this past year reaffirmed the importance of listening to experts. Watch live as @JoeBiden and I introduce the qualified scientists to lead our science team. https://t.co/0FXPtXJNXz\n",
            "2 ) The Biden-Harris COVID-19 response plan will include:\n",
            "✓Setting up community vaccination sites nationwide\n",
            "✓Scaling up testing and tracing\n",
            "✓Providing paid sick leave to contain spread of the virus\n",
            "✓Addressing health disparities\n",
            "3 ) This year, join @JoeBiden and me for a National Day of Service on January 18th to help build our country back better.\n",
            "\n",
            "Go to https://t.co/VPaoxS1YHk to find an event in your community or learn more about how to host your own. https://t.co/uLYibK5XDj\n"
          ],
          "name": "stdout"
        }
      ]
    },
    {
      "cell_type": "code",
      "metadata": {
        "colab": {
          "base_uri": "https://localhost:8080/",
          "height": 139
        },
        "id": "zWxU-U51epWV",
        "outputId": "46a2c5bf-a0ad-4fce-e47a-6e548ff39c1a"
      },
      "source": [
        "#PUT THE TWEETS IN DATA FRAME\r\n",
        "data=pd.DataFrame([tweet.full_text for tweet in tweets],columns=['TWEETS'])\r\n",
        "data.head(3)"
      ],
      "execution_count": 100,
      "outputs": [
        {
          "output_type": "execute_result",
          "data": {
            "text/html": [
              "<div>\n",
              "<style scoped>\n",
              "    .dataframe tbody tr th:only-of-type {\n",
              "        vertical-align: middle;\n",
              "    }\n",
              "\n",
              "    .dataframe tbody tr th {\n",
              "        vertical-align: top;\n",
              "    }\n",
              "\n",
              "    .dataframe thead th {\n",
              "        text-align: right;\n",
              "    }\n",
              "</style>\n",
              "<table border=\"1\" class=\"dataframe\">\n",
              "  <thead>\n",
              "    <tr style=\"text-align: right;\">\n",
              "      <th></th>\n",
              "      <th>TWEETS</th>\n",
              "    </tr>\n",
              "  </thead>\n",
              "  <tbody>\n",
              "    <tr>\n",
              "      <th>0</th>\n",
              "      <td>From the pandemic to our climate crisis, this ...</td>\n",
              "    </tr>\n",
              "    <tr>\n",
              "      <th>1</th>\n",
              "      <td>The Biden-Harris COVID-19 response plan will i...</td>\n",
              "    </tr>\n",
              "    <tr>\n",
              "      <th>2</th>\n",
              "      <td>This year, join @JoeBiden and me for a Nationa...</td>\n",
              "    </tr>\n",
              "  </tbody>\n",
              "</table>\n",
              "</div>"
            ],
            "text/plain": [
              "                                              TWEETS\n",
              "0  From the pandemic to our climate crisis, this ...\n",
              "1  The Biden-Harris COVID-19 response plan will i...\n",
              "2  This year, join @JoeBiden and me for a Nationa..."
            ]
          },
          "metadata": {
            "tags": []
          },
          "execution_count": 100
        }
      ]
    },
    {
      "cell_type": "code",
      "metadata": {
        "id": "uTNzrNgOh87d"
      },
      "source": [
        "#TEXT CLEANING\r\n",
        "def txtclean(text):\r\n",
        "    text=re.sub(r'@[A-Za-z0-9]+', '', text)#REMOVE MENTIONS\r\n",
        "    text=re.sub(r'#','',text)#REMOVE HASHTAGS\r\n",
        "    text=re.sub(r'RT[\\s]+','',text)#REMOVE RETWEETS\r\n",
        "    text=re.sub(r'https://\\S+','',text)#REMOVE HYPERLINKS\r\n",
        "    return text\r\n"
      ],
      "execution_count": 110,
      "outputs": []
    },
    {
      "cell_type": "code",
      "metadata": {
        "colab": {
          "base_uri": "https://localhost:8080/",
          "height": 409
        },
        "id": "SbwO6MqLj_Ss",
        "outputId": "ad872923-89da-4904-b91d-5502a28ea38c"
      },
      "source": [
        "#APPLYING TEXTCLEANING\r\n",
        "data['TWEETS']=data['TWEETS'].apply(txtclean)\r\n",
        "data"
      ],
      "execution_count": 116,
      "outputs": [
        {
          "output_type": "execute_result",
          "data": {
            "text/html": [
              "<div>\n",
              "<style scoped>\n",
              "    .dataframe tbody tr th:only-of-type {\n",
              "        vertical-align: middle;\n",
              "    }\n",
              "\n",
              "    .dataframe tbody tr th {\n",
              "        vertical-align: top;\n",
              "    }\n",
              "\n",
              "    .dataframe thead th {\n",
              "        text-align: right;\n",
              "    }\n",
              "</style>\n",
              "<table border=\"1\" class=\"dataframe\">\n",
              "  <thead>\n",
              "    <tr style=\"text-align: right;\">\n",
              "      <th></th>\n",
              "      <th>TWEETS</th>\n",
              "    </tr>\n",
              "  </thead>\n",
              "  <tbody>\n",
              "    <tr>\n",
              "      <th>0</th>\n",
              "      <td>From the pandemic to our climate crisis, this ...</td>\n",
              "    </tr>\n",
              "    <tr>\n",
              "      <th>1</th>\n",
              "      <td>The Biden-Harris COVID-19 response plan will i...</td>\n",
              "    </tr>\n",
              "    <tr>\n",
              "      <th>2</th>\n",
              "      <td>This year, join  and me for a National Day of ...</td>\n",
              "    </tr>\n",
              "    <tr>\n",
              "      <th>3</th>\n",
              "      <td>These world-renowned scientists and experts re...</td>\n",
              "    </tr>\n",
              "    <tr>\n",
              "      <th>4</th>\n",
              "      <td>Dr. Martin Luther King, Jr. understood that ra...</td>\n",
              "    </tr>\n",
              "    <tr>\n",
              "      <th>...</th>\n",
              "      <td>...</td>\n",
              "    </tr>\n",
              "    <tr>\n",
              "      <th>95</th>\n",
              "      <td>Getting the COVID-19 vaccine was safe, easy, a...</td>\n",
              "    </tr>\n",
              "    <tr>\n",
              "      <th>96</th>\n",
              "      <td>: The polls are open.</td>\n",
              "    </tr>\n",
              "    <tr>\n",
              "      <th>97</th>\n",
              "      <td>: There are just TWO DAYS left to vote early.</td>\n",
              "    </tr>\n",
              "    <tr>\n",
              "      <th>98</th>\n",
              "      <td>On the frontlines of this fight are nurses lik...</td>\n",
              "    </tr>\n",
              "    <tr>\n",
              "      <th>99</th>\n",
              "      <td>Getting the COVID-19 vaccine will save your li...</td>\n",
              "    </tr>\n",
              "  </tbody>\n",
              "</table>\n",
              "<p>100 rows × 1 columns</p>\n",
              "</div>"
            ],
            "text/plain": [
              "                                               TWEETS\n",
              "0   From the pandemic to our climate crisis, this ...\n",
              "1   The Biden-Harris COVID-19 response plan will i...\n",
              "2   This year, join  and me for a National Day of ...\n",
              "3   These world-renowned scientists and experts re...\n",
              "4   Dr. Martin Luther King, Jr. understood that ra...\n",
              "..                                                ...\n",
              "95  Getting the COVID-19 vaccine was safe, easy, a...\n",
              "96                             : The polls are open. \n",
              "97     : There are just TWO DAYS left to vote early. \n",
              "98  On the frontlines of this fight are nurses lik...\n",
              "99  Getting the COVID-19 vaccine will save your li...\n",
              "\n",
              "[100 rows x 1 columns]"
            ]
          },
          "metadata": {
            "tags": []
          },
          "execution_count": 116
        }
      ]
    },
    {
      "cell_type": "code",
      "metadata": {
        "colab": {
          "base_uri": "https://localhost:8080/",
          "height": 409
        },
        "id": "m3KIF1n2mZM_",
        "outputId": "c4f7900c-64c5-41c7-ee25-cf328c69748c"
      },
      "source": [
        "#GETTING SUBJECTIVITY AND POLARITY OF EACH TWEET\r\n",
        "def get_subjectivity(text):\r\n",
        "    return TextBlob(text).sentiment.subjectivity\r\n",
        "def get_polarity(text):\r\n",
        "    return TextBlob(text).sentiment.polarity\r\n",
        "#ASSIGN SUBJECTIVITY AND POLARITY TO EACH TWEET IN DATA FRAME\r\n",
        "data['SUBJECTIVITY']=data['TWEETS'].apply(get_subjectivity)\r\n",
        "data['POLARITY']=data['TWEETS'].apply(get_polarity)\r\n",
        "data"
      ],
      "execution_count": 123,
      "outputs": [
        {
          "output_type": "execute_result",
          "data": {
            "text/html": [
              "<div>\n",
              "<style scoped>\n",
              "    .dataframe tbody tr th:only-of-type {\n",
              "        vertical-align: middle;\n",
              "    }\n",
              "\n",
              "    .dataframe tbody tr th {\n",
              "        vertical-align: top;\n",
              "    }\n",
              "\n",
              "    .dataframe thead th {\n",
              "        text-align: right;\n",
              "    }\n",
              "</style>\n",
              "<table border=\"1\" class=\"dataframe\">\n",
              "  <thead>\n",
              "    <tr style=\"text-align: right;\">\n",
              "      <th></th>\n",
              "      <th>TWEETS</th>\n",
              "      <th>SUBJECTIVITY</th>\n",
              "      <th>POLARITY</th>\n",
              "    </tr>\n",
              "  </thead>\n",
              "  <tbody>\n",
              "    <tr>\n",
              "      <th>0</th>\n",
              "      <td>From the pandemic to our climate crisis, this ...</td>\n",
              "      <td>0.375000</td>\n",
              "      <td>-0.056818</td>\n",
              "    </tr>\n",
              "    <tr>\n",
              "      <th>1</th>\n",
              "      <td>The Biden-Harris COVID-19 response plan will i...</td>\n",
              "      <td>0.857143</td>\n",
              "      <td>-0.714286</td>\n",
              "    </tr>\n",
              "    <tr>\n",
              "      <th>2</th>\n",
              "      <td>This year, join  and me for a National Day of ...</td>\n",
              "      <td>0.500000</td>\n",
              "      <td>0.400000</td>\n",
              "    </tr>\n",
              "    <tr>\n",
              "      <th>3</th>\n",
              "      <td>These world-renowned scientists and experts re...</td>\n",
              "      <td>0.494667</td>\n",
              "      <td>0.580000</td>\n",
              "    </tr>\n",
              "    <tr>\n",
              "      <th>4</th>\n",
              "      <td>Dr. Martin Luther King, Jr. understood that ra...</td>\n",
              "      <td>0.162500</td>\n",
              "      <td>0.100000</td>\n",
              "    </tr>\n",
              "    <tr>\n",
              "      <th>...</th>\n",
              "      <td>...</td>\n",
              "      <td>...</td>\n",
              "      <td>...</td>\n",
              "    </tr>\n",
              "    <tr>\n",
              "      <th>95</th>\n",
              "      <td>Getting the COVID-19 vaccine was safe, easy, a...</td>\n",
              "      <td>0.777778</td>\n",
              "      <td>0.394444</td>\n",
              "    </tr>\n",
              "    <tr>\n",
              "      <th>96</th>\n",
              "      <td>: The polls are open.</td>\n",
              "      <td>0.500000</td>\n",
              "      <td>0.000000</td>\n",
              "    </tr>\n",
              "    <tr>\n",
              "      <th>97</th>\n",
              "      <td>: There are just TWO DAYS left to vote early.</td>\n",
              "      <td>0.150000</td>\n",
              "      <td>0.050000</td>\n",
              "    </tr>\n",
              "    <tr>\n",
              "      <th>98</th>\n",
              "      <td>On the frontlines of this fight are nurses lik...</td>\n",
              "      <td>0.000000</td>\n",
              "      <td>0.000000</td>\n",
              "    </tr>\n",
              "    <tr>\n",
              "      <th>99</th>\n",
              "      <td>Getting the COVID-19 vaccine will save your li...</td>\n",
              "      <td>0.450000</td>\n",
              "      <td>0.100000</td>\n",
              "    </tr>\n",
              "  </tbody>\n",
              "</table>\n",
              "<p>100 rows × 3 columns</p>\n",
              "</div>"
            ],
            "text/plain": [
              "                                               TWEETS  SUBJECTIVITY  POLARITY\n",
              "0   From the pandemic to our climate crisis, this ...      0.375000 -0.056818\n",
              "1   The Biden-Harris COVID-19 response plan will i...      0.857143 -0.714286\n",
              "2   This year, join  and me for a National Day of ...      0.500000  0.400000\n",
              "3   These world-renowned scientists and experts re...      0.494667  0.580000\n",
              "4   Dr. Martin Luther King, Jr. understood that ra...      0.162500  0.100000\n",
              "..                                                ...           ...       ...\n",
              "95  Getting the COVID-19 vaccine was safe, easy, a...      0.777778  0.394444\n",
              "96                             : The polls are open.       0.500000  0.000000\n",
              "97     : There are just TWO DAYS left to vote early.       0.150000  0.050000\n",
              "98  On the frontlines of this fight are nurses lik...      0.000000  0.000000\n",
              "99  Getting the COVID-19 vaccine will save your li...      0.450000  0.100000\n",
              "\n",
              "[100 rows x 3 columns]"
            ]
          },
          "metadata": {
            "tags": []
          },
          "execution_count": 123
        }
      ]
    },
    {
      "cell_type": "code",
      "metadata": {
        "colab": {
          "base_uri": "https://localhost:8080/",
          "height": 248
        },
        "id": "1jQ9ynQCqzm0",
        "outputId": "ed1dd819-e61b-4749-ddc1-1e25311fd7b5"
      },
      "source": [
        "#WORD CLOUD OF ALL THE TWEETS\r\n",
        "alltweets=' '.join([t for t in data['TWEETS']])\r\n",
        "wrdcld=WordCloud(width=500,height=300).generate(alltweets)\r\n",
        "plt.imshow(wrdcld)\r\n",
        "plt.axis('off')\r\n",
        "plt.show()"
      ],
      "execution_count": 140,
      "outputs": [
        {
          "output_type": "display_data",
          "data": {
            "image/png": "[encoded data removed]",
            "text/plain": [
              "<Figure size 432x288 with 1 Axes>"
            ]
          },
          "metadata": {
            "tags": [],
            "needs_background": "light"
          }
        }
      ]
    },
    {
      "cell_type": "code",
      "metadata": {
        "colab": {
          "base_uri": "https://localhost:8080/",
          "height": 409
        },
        "id": "0cZtn6vJrWif",
        "outputId": "e90a8eca-c321-430d-c312-b0c5ea8886a5"
      },
      "source": [
        "#ANALYSIS BASED ON POLARITY OF TWEET\r\n",
        "def Analysis(polarity_score):\r\n",
        "    if polarity_score>0:\r\n",
        "        return 'Positive'\r\n",
        "    elif polarity_score<0:\r\n",
        "        return 'Negative'\r\n",
        "    else:\r\n",
        "        return 'Neutral'\r\n",
        "#ASSIGN ANALYSIS TO EACH TWEET IN DATA FRAME\r\n",
        "data['ANALYSIS']=data['POLARITY'].apply(Analysis)\r\n",
        "data"
      ],
      "execution_count": 144,
      "outputs": [
        {
          "output_type": "execute_result",
          "data": {
            "text/html": [
              "<div>\n",
              "<style scoped>\n",
              "    .dataframe tbody tr th:only-of-type {\n",
              "        vertical-align: middle;\n",
              "    }\n",
              "\n",
              "    .dataframe tbody tr th {\n",
              "        vertical-align: top;\n",
              "    }\n",
              "\n",
              "    .dataframe thead th {\n",
              "        text-align: right;\n",
              "    }\n",
              "</style>\n",
              "<table border=\"1\" class=\"dataframe\">\n",
              "  <thead>\n",
              "    <tr style=\"text-align: right;\">\n",
              "      <th></th>\n",
              "      <th>TWEETS</th>\n",
              "      <th>SUBJECTIVITY</th>\n",
              "      <th>POLARITY</th>\n",
              "      <th>ANALYSIS</th>\n",
              "    </tr>\n",
              "  </thead>\n",
              "  <tbody>\n",
              "    <tr>\n",
              "      <th>0</th>\n",
              "      <td>From the pandemic to our climate crisis, this ...</td>\n",
              "      <td>0.375000</td>\n",
              "      <td>-0.056818</td>\n",
              "      <td>Negative</td>\n",
              "    </tr>\n",
              "    <tr>\n",
              "      <th>1</th>\n",
              "      <td>The Biden-Harris COVID-19 response plan will i...</td>\n",
              "      <td>0.857143</td>\n",
              "      <td>-0.714286</td>\n",
              "      <td>Negative</td>\n",
              "    </tr>\n",
              "    <tr>\n",
              "      <th>2</th>\n",
              "      <td>This year, join  and me for a National Day of ...</td>\n",
              "      <td>0.500000</td>\n",
              "      <td>0.400000</td>\n",
              "      <td>Positive</td>\n",
              "    </tr>\n",
              "    <tr>\n",
              "      <th>3</th>\n",
              "      <td>These world-renowned scientists and experts re...</td>\n",
              "      <td>0.494667</td>\n",
              "      <td>0.580000</td>\n",
              "      <td>Positive</td>\n",
              "    </tr>\n",
              "    <tr>\n",
              "      <th>4</th>\n",
              "      <td>Dr. Martin Luther King, Jr. understood that ra...</td>\n",
              "      <td>0.162500</td>\n",
              "      <td>0.100000</td>\n",
              "      <td>Positive</td>\n",
              "    </tr>\n",
              "    <tr>\n",
              "      <th>...</th>\n",
              "      <td>...</td>\n",
              "      <td>...</td>\n",
              "      <td>...</td>\n",
              "      <td>...</td>\n",
              "    </tr>\n",
              "    <tr>\n",
              "      <th>95</th>\n",
              "      <td>Getting the COVID-19 vaccine was safe, easy, a...</td>\n",
              "      <td>0.777778</td>\n",
              "      <td>0.394444</td>\n",
              "      <td>Positive</td>\n",
              "    </tr>\n",
              "    <tr>\n",
              "      <th>96</th>\n",
              "      <td>: The polls are open.</td>\n",
              "      <td>0.500000</td>\n",
              "      <td>0.000000</td>\n",
              "      <td>Neutral</td>\n",
              "    </tr>\n",
              "    <tr>\n",
              "      <th>97</th>\n",
              "      <td>: There are just TWO DAYS left to vote early.</td>\n",
              "      <td>0.150000</td>\n",
              "      <td>0.050000</td>\n",
              "      <td>Positive</td>\n",
              "    </tr>\n",
              "    <tr>\n",
              "      <th>98</th>\n",
              "      <td>On the frontlines of this fight are nurses lik...</td>\n",
              "      <td>0.000000</td>\n",
              "      <td>0.000000</td>\n",
              "      <td>Neutral</td>\n",
              "    </tr>\n",
              "    <tr>\n",
              "      <th>99</th>\n",
              "      <td>Getting the COVID-19 vaccine will save your li...</td>\n",
              "      <td>0.450000</td>\n",
              "      <td>0.100000</td>\n",
              "      <td>Positive</td>\n",
              "    </tr>\n",
              "  </tbody>\n",
              "</table>\n",
              "<p>100 rows × 4 columns</p>\n",
              "</div>"
            ],
            "text/plain": [
              "                                               TWEETS  ...  ANALYSIS\n",
              "0   From the pandemic to our climate crisis, this ...  ...  Negative\n",
              "1   The Biden-Harris COVID-19 response plan will i...  ...  Negative\n",
              "2   This year, join  and me for a National Day of ...  ...  Positive\n",
              "3   These world-renowned scientists and experts re...  ...  Positive\n",
              "4   Dr. Martin Luther King, Jr. understood that ra...  ...  Positive\n",
              "..                                                ...  ...       ...\n",
              "95  Getting the COVID-19 vaccine was safe, easy, a...  ...  Positive\n",
              "96                             : The polls are open.   ...   Neutral\n",
              "97     : There are just TWO DAYS left to vote early.   ...  Positive\n",
              "98  On the frontlines of this fight are nurses lik...  ...   Neutral\n",
              "99  Getting the COVID-19 vaccine will save your li...  ...  Positive\n",
              "\n",
              "[100 rows x 4 columns]"
            ]
          },
          "metadata": {
            "tags": []
          },
          "execution_count": 144
        }
      ]
    },
    {
      "cell_type": "code",
      "metadata": {
        "colab": {
          "base_uri": "https://localhost:8080/"
        },
        "id": "XmcwBnSVvQTA",
        "outputId": "06142ddc-220c-4611-9409-08013100c603"
      },
      "source": [
        "#ALL POSITIVE TWEETS \r\n",
        "sorted_data=data.sort_values(by='POLARITY')\r\n",
        "c_negative=data['ANALYSIS'].value_counts()['Negative']\r\n",
        "c_neutral=data['ANALYSIS'].value_counts()['Neutral']\r\n",
        "\r\n",
        "#when sorted 1st -ve then 0 then +ve so print excluding -ve and 0 to end of df gives +ve\r\n",
        "positive_tweets=sorted_data[c_negative+c_neutral:sorted_data.shape[0]]\r\n",
        "positive_tweets['TWEETS']\r\n",
        "#same way we can do for negative and neutral tweets"
      ],
      "execution_count": 184,
      "outputs": [
        {
          "output_type": "execute_result",
          "data": {
            "text/plain": [
              "38    We are still in the middle of a pandemic: mask...\n",
              "36    My mother taught me that no matter how you ear...\n",
              "92    : Georgia — Today is your last chance to vote ...\n",
              "35    What the headline doesn't tell you: this dispr...\n",
              "97       : There are just TWO DAYS left to vote early. \n",
              "64    I know  and . We’ve talked about the promise o...\n",
              "23    : I urge every American to:\\n\\n- Wear a mask\\n...\n",
              "32    From the pandemic, to the economic recession, ...\n",
              "22    We’ve seen the devastation the climate crisis ...\n",
              "52    We have witnessed two systems of justice: one ...\n",
              "12    I’m with . Our first priority has to be to get...\n",
              "17    Food banks are strained trying to feed people ...\n",
              "91    As we bring 2020 to a close,  and I wanted to ...\n",
              "50    The challenge we’re facing in our country is a...\n",
              "14    : We’re in the teeth of this crisis, and we ne...\n",
              "40    From working with unions as San Francisco’s Di...\n",
              "99    Getting the COVID-19 vaccine will save your li...\n",
              "4     Dr. Martin Luther King, Jr. understood that ra...\n",
              "9     “We will finish the job of getting a total of ...\n",
              "5     : 5 days until we make history.\\n\\n❤️ or 🔁 thi...\n",
              "86        New year, new President, new Vice President. \n",
              "85                       : My prayer for the new year. \n",
              "13    More than 384,000 Americans have died from COV...\n",
              "66    Georgians, today you can decide the fate of th...\n",
              "45    As we work to contain the pandemic and open ou...\n",
              "37    : Our president is not above the law. \\n\\nJust...\n",
              "93    Congrats, . You may be the first, but I know y...\n",
              "16    One of the most pressing challenges facing our...\n",
              "68    Georgia, polls are now open! Your vote is your...\n",
              "27    We must build our economy back better so it li...\n",
              "79                   See you on Instagram Live soon, ! \n",
              "51    For centuries, justice has been symbolized as ...\n",
              "83    Do your part to protect your neighbors this ne...\n",
              "39    Black women turned out this week to help elect...\n",
              "84    To end last year,  and I called some of our fr...\n",
              "71    We won Georgia in November, and we need everyo...\n",
              "65    The late great John Lewis shed his blood on th...\n",
              "54    Fidelity to the rule of law forms the bedrock ...\n",
              "55    : This team will work to move us closer to the...\n",
              "26    Thank you Governor  for your powerful message ...\n",
              "24    The first 100 days of the Biden-Harris adminis...\n",
              "88    As we look ahead to 2021, I am filled with opt...\n",
              "94    As  said yesterday, once in office we will ens...\n",
              "95    Getting the COVID-19 vaccine was safe, easy, a...\n",
              "2     This year, join  and me for a National Day of ...\n",
              "6     Happy Founders’ Day, ! Today, as we celebrate ...\n",
              "81    Truly a historic day with a record number of w...\n",
              "47    President-elect  and I, along with this superb...\n",
              "82    More than 3 million votes were already cast in...\n",
              "11    There is no one better prepared than  to steer...\n",
              "42    : After I was shot, I fought to regain all tha...\n",
              "41    We need to provide more immediate relief for w...\n",
              "3     These world-renowned scientists and experts re...\n",
              "18    Like our son Cole, I often find myself thinkin...\n",
              "46    I am proud to announce these deeply experience...\n",
              "Name: TWEETS, dtype: object"
            ]
          },
          "metadata": {
            "tags": []
          },
          "execution_count": 184
        }
      ]
    },
    {
      "cell_type": "code",
      "metadata": {
        "colab": {
          "base_uri": "https://localhost:8080/"
        },
        "id": "EPwVF-Sv5QQs",
        "outputId": "c9fcbf3a-b359-4fc2-d17c-c66bfbcbff57"
      },
      "source": [
        "#other way\r\n",
        "ptweets=data[data.ANALYSIS=='Positive']\r\n",
        "ptweets['TWEETS']"
      ],
      "execution_count": 190,
      "outputs": [
        {
          "output_type": "execute_result",
          "data": {
            "text/plain": [
              "2     This year, join  and me for a National Day of ...\n",
              "3     These world-renowned scientists and experts re...\n",
              "4     Dr. Martin Luther King, Jr. understood that ra...\n",
              "5     : 5 days until we make history.\\n\\n❤️ or 🔁 thi...\n",
              "6     Happy Founders’ Day, ! Today, as we celebrate ...\n",
              "9     “We will finish the job of getting a total of ...\n",
              "11    There is no one better prepared than  to steer...\n",
              "12    I’m with . Our first priority has to be to get...\n",
              "13    More than 384,000 Americans have died from COV...\n",
              "14    : We’re in the teeth of this crisis, and we ne...\n",
              "16    One of the most pressing challenges facing our...\n",
              "17    Food banks are strained trying to feed people ...\n",
              "18    Like our son Cole, I often find myself thinkin...\n",
              "22    We’ve seen the devastation the climate crisis ...\n",
              "23    : I urge every American to:\\n\\n- Wear a mask\\n...\n",
              "24    The first 100 days of the Biden-Harris adminis...\n",
              "26    Thank you Governor  for your powerful message ...\n",
              "27    We must build our economy back better so it li...\n",
              "32    From the pandemic, to the economic recession, ...\n",
              "35    What the headline doesn't tell you: this dispr...\n",
              "36    My mother taught me that no matter how you ear...\n",
              "37    : Our president is not above the law. \\n\\nJust...\n",
              "38    We are still in the middle of a pandemic: mask...\n",
              "39    Black women turned out this week to help elect...\n",
              "40    From working with unions as San Francisco’s Di...\n",
              "41    We need to provide more immediate relief for w...\n",
              "42    : After I was shot, I fought to regain all tha...\n",
              "45    As we work to contain the pandemic and open ou...\n",
              "46    I am proud to announce these deeply experience...\n",
              "47    President-elect  and I, along with this superb...\n",
              "50    The challenge we’re facing in our country is a...\n",
              "51    For centuries, justice has been symbolized as ...\n",
              "52    We have witnessed two systems of justice: one ...\n",
              "54    Fidelity to the rule of law forms the bedrock ...\n",
              "55    : This team will work to move us closer to the...\n",
              "64    I know  and . We’ve talked about the promise o...\n",
              "65    The late great John Lewis shed his blood on th...\n",
              "66    Georgians, today you can decide the fate of th...\n",
              "68    Georgia, polls are now open! Your vote is your...\n",
              "71    We won Georgia in November, and we need everyo...\n",
              "79                   See you on Instagram Live soon, ! \n",
              "81    Truly a historic day with a record number of w...\n",
              "82    More than 3 million votes were already cast in...\n",
              "83    Do your part to protect your neighbors this ne...\n",
              "84    To end last year,  and I called some of our fr...\n",
              "85                       : My prayer for the new year. \n",
              "86        New year, new President, new Vice President. \n",
              "88    As we look ahead to 2021, I am filled with opt...\n",
              "91    As we bring 2020 to a close,  and I wanted to ...\n",
              "92    : Georgia — Today is your last chance to vote ...\n",
              "93    Congrats, . You may be the first, but I know y...\n",
              "94    As  said yesterday, once in office we will ens...\n",
              "95    Getting the COVID-19 vaccine was safe, easy, a...\n",
              "97       : There are just TWO DAYS left to vote early. \n",
              "99    Getting the COVID-19 vaccine will save your li...\n",
              "Name: TWEETS, dtype: object"
            ]
          },
          "metadata": {
            "tags": []
          },
          "execution_count": 190
        }
      ]
    },
    {
      "cell_type": "code",
      "metadata": {
        "colab": {
          "base_uri": "https://localhost:8080/",
          "height": 405
        },
        "id": "3iABlKivygpY",
        "outputId": "c7f3338d-da7e-4bd0-a275-002eb49f201c"
      },
      "source": [
        "#plot subjectivity vs polarity\r\n",
        "plt.figure(figsize=(8,6))\r\n",
        "for i in range(0,data.shape[0]):\r\n",
        "    plt.scatter(data['POLARITY'][i],data['SUBJECTIVITY'][i],color='red')\r\n",
        "plt.ylabel('SUBJECTIVITY')\r\n",
        "plt.xlabel('POLARITY')\r\n",
        "plt.title('SENTIMENT ANALYSIS')\r\n",
        "plt.show()"
      ],
      "execution_count": 188,
      "outputs": [
        {
          "output_type": "display_data",
          "data": {
            "image/png": "[encoded data removed]",
            "text/plain": [
              "<Figure size 576x432 with 1 Axes>"
            ]
          },
          "metadata": {
            "tags": [],
            "needs_background": "light"
          }
        }
      ]
    },
    {
      "cell_type": "code",
      "metadata": {
        "colab": {
          "base_uri": "https://localhost:8080/"
        },
        "id": "f05dSjb64hA3",
        "outputId": "8b43486b-cdc2-4158-b815-341880ca2e91"
      },
      "source": [
        "# %of +ve tweets\r\n",
        "round((ptweets.shape[0]/data.shape[0]*100),1)"
      ],
      "execution_count": 195,
      "outputs": [
        {
          "output_type": "execute_result",
          "data": {
            "text/plain": [
              "55.0"
            ]
          },
          "metadata": {
            "tags": []
          },
          "execution_count": 195
        }
      ]
    },
    {
      "cell_type": "code",
      "metadata": {
        "colab": {
          "base_uri": "https://localhost:8080/",
          "height": 331
        },
        "id": "mJKDmhVq57ue",
        "outputId": "83612549-b805-4b80-824c-81c279f74b43"
      },
      "source": [
        "#plot of -ve and +ve and neutral no.of tweets\r\n",
        "data['ANALYSIS'].value_counts().plot(kind='bar')\r\n",
        "plt.title('SENTIMENT ANALYSIS')\r\n",
        "plt.xlabel('SENTIMENT')\r\n",
        "plt.ylabel('COUNTS')\r\n",
        "plt.show()"
      ],
      "execution_count": 198,
      "outputs": [
        {
          "output_type": "display_data",
          "data": {
            "image/png": "[encoded data removed]",
            "text/plain": [
              "<Figure size 432x288 with 1 Axes>"
            ]
          },
          "metadata": {
            "tags": [],
            "needs_background": "light"
          }
        }
      ]
    },
    {
      "cell_type": "code",
      "metadata": {
        "id": "AuJTa66V64MI"
      },
      "source": [
        ""
      ],
      "execution_count": null,
      "outputs": []
    }
  ]
}